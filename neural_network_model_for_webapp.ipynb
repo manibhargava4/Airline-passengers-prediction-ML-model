{
 "cells": [
  {
   "cell_type": "markdown",
   "metadata": {},
   "source": [
    "### Neural Network Implementation to the Dataset"
   ]
  },
  {
   "cell_type": "code",
   "execution_count": 1,
   "metadata": {},
   "outputs": [],
   "source": [
    "import pandas as pd"
   ]
  },
  {
   "cell_type": "code",
   "execution_count": 2,
   "metadata": {},
   "outputs": [],
   "source": [
    "dataset = pd.read_csv(\"Passenger_satisfaction_processed.csv\")"
   ]
  },
  {
   "cell_type": "code",
   "execution_count": 3,
   "metadata": {},
   "outputs": [
    {
     "name": "stdout",
     "output_type": "stream",
     "text": [
      "<class 'pandas.core.frame.DataFrame'>\n",
      "RangeIndex: 129487 entries, 0 to 129486\n",
      "Data columns (total 16 columns):\n",
      " #   Column                  Non-Null Count   Dtype\n",
      "---  ------                  --------------   -----\n",
      " 0   Unnamed: 0              129487 non-null  int64\n",
      " 1   satisfaction_v2         129487 non-null  int64\n",
      " 2   Customer_Type           129487 non-null  int64\n",
      " 3   Age                     129487 non-null  int64\n",
      " 4   Seat_comfort            129487 non-null  int64\n",
      " 5   FD                      129487 non-null  int64\n",
      " 6   Inflight_wifi_service   129487 non-null  int64\n",
      " 7   Inflight_entertainment  129487 non-null  int64\n",
      " 8   OS                      129487 non-null  int64\n",
      " 9   EOOB                    129487 non-null  int64\n",
      " 10  On_board_service        129487 non-null  int64\n",
      " 11  Leg_room_service        129487 non-null  int64\n",
      " 12  BH                      129487 non-null  int64\n",
      " 13  Checkin_service         129487 non-null  int64\n",
      " 14  Cleanliness             129487 non-null  int64\n",
      " 15  OB                      129487 non-null  int64\n",
      "dtypes: int64(16)\n",
      "memory usage: 15.8 MB\n"
     ]
    }
   ],
   "source": [
    "dataset.info()"
   ]
  },
  {
   "cell_type": "code",
   "execution_count": 4,
   "metadata": {},
   "outputs": [
    {
     "data": {
      "text/html": [
       "<div>\n",
       "<style scoped>\n",
       "    .dataframe tbody tr th:only-of-type {\n",
       "        vertical-align: middle;\n",
       "    }\n",
       "\n",
       "    .dataframe tbody tr th {\n",
       "        vertical-align: top;\n",
       "    }\n",
       "\n",
       "    .dataframe thead th {\n",
       "        text-align: right;\n",
       "    }\n",
       "</style>\n",
       "<table border=\"1\" class=\"dataframe\">\n",
       "  <thead>\n",
       "    <tr style=\"text-align: right;\">\n",
       "      <th></th>\n",
       "      <th>Unnamed: 0</th>\n",
       "      <th>satisfaction_v2</th>\n",
       "      <th>Customer_Type</th>\n",
       "      <th>Age</th>\n",
       "      <th>Seat_comfort</th>\n",
       "      <th>FD</th>\n",
       "      <th>Inflight_wifi_service</th>\n",
       "      <th>Inflight_entertainment</th>\n",
       "      <th>OS</th>\n",
       "      <th>EOOB</th>\n",
       "      <th>On_board_service</th>\n",
       "      <th>Leg_room_service</th>\n",
       "      <th>BH</th>\n",
       "      <th>Checkin_service</th>\n",
       "      <th>Cleanliness</th>\n",
       "      <th>OB</th>\n",
       "    </tr>\n",
       "  </thead>\n",
       "  <tbody>\n",
       "    <tr>\n",
       "      <th>0</th>\n",
       "      <td>0</td>\n",
       "      <td>1</td>\n",
       "      <td>1</td>\n",
       "      <td>65</td>\n",
       "      <td>0</td>\n",
       "      <td>0</td>\n",
       "      <td>2</td>\n",
       "      <td>4</td>\n",
       "      <td>2</td>\n",
       "      <td>3</td>\n",
       "      <td>3</td>\n",
       "      <td>0</td>\n",
       "      <td>3</td>\n",
       "      <td>5</td>\n",
       "      <td>3</td>\n",
       "      <td>2</td>\n",
       "    </tr>\n",
       "    <tr>\n",
       "      <th>1</th>\n",
       "      <td>1</td>\n",
       "      <td>1</td>\n",
       "      <td>1</td>\n",
       "      <td>47</td>\n",
       "      <td>0</td>\n",
       "      <td>0</td>\n",
       "      <td>0</td>\n",
       "      <td>2</td>\n",
       "      <td>2</td>\n",
       "      <td>3</td>\n",
       "      <td>4</td>\n",
       "      <td>4</td>\n",
       "      <td>4</td>\n",
       "      <td>2</td>\n",
       "      <td>3</td>\n",
       "      <td>2</td>\n",
       "    </tr>\n",
       "    <tr>\n",
       "      <th>2</th>\n",
       "      <td>2</td>\n",
       "      <td>1</td>\n",
       "      <td>1</td>\n",
       "      <td>15</td>\n",
       "      <td>0</td>\n",
       "      <td>0</td>\n",
       "      <td>2</td>\n",
       "      <td>0</td>\n",
       "      <td>2</td>\n",
       "      <td>2</td>\n",
       "      <td>3</td>\n",
       "      <td>3</td>\n",
       "      <td>4</td>\n",
       "      <td>4</td>\n",
       "      <td>4</td>\n",
       "      <td>2</td>\n",
       "    </tr>\n",
       "    <tr>\n",
       "      <th>3</th>\n",
       "      <td>3</td>\n",
       "      <td>1</td>\n",
       "      <td>1</td>\n",
       "      <td>60</td>\n",
       "      <td>0</td>\n",
       "      <td>0</td>\n",
       "      <td>3</td>\n",
       "      <td>4</td>\n",
       "      <td>3</td>\n",
       "      <td>1</td>\n",
       "      <td>1</td>\n",
       "      <td>0</td>\n",
       "      <td>1</td>\n",
       "      <td>4</td>\n",
       "      <td>1</td>\n",
       "      <td>3</td>\n",
       "    </tr>\n",
       "    <tr>\n",
       "      <th>4</th>\n",
       "      <td>4</td>\n",
       "      <td>1</td>\n",
       "      <td>1</td>\n",
       "      <td>70</td>\n",
       "      <td>0</td>\n",
       "      <td>0</td>\n",
       "      <td>4</td>\n",
       "      <td>3</td>\n",
       "      <td>4</td>\n",
       "      <td>2</td>\n",
       "      <td>2</td>\n",
       "      <td>0</td>\n",
       "      <td>2</td>\n",
       "      <td>4</td>\n",
       "      <td>2</td>\n",
       "      <td>5</td>\n",
       "    </tr>\n",
       "  </tbody>\n",
       "</table>\n",
       "</div>"
      ],
      "text/plain": [
       "   Unnamed: 0  satisfaction_v2  Customer_Type  Age  Seat_comfort  FD  \\\n",
       "0           0                1              1   65             0   0   \n",
       "1           1                1              1   47             0   0   \n",
       "2           2                1              1   15             0   0   \n",
       "3           3                1              1   60             0   0   \n",
       "4           4                1              1   70             0   0   \n",
       "\n",
       "   Inflight_wifi_service  Inflight_entertainment  OS  EOOB  On_board_service  \\\n",
       "0                      2                       4   2     3                 3   \n",
       "1                      0                       2   2     3                 4   \n",
       "2                      2                       0   2     2                 3   \n",
       "3                      3                       4   3     1                 1   \n",
       "4                      4                       3   4     2                 2   \n",
       "\n",
       "   Leg_room_service  BH  Checkin_service  Cleanliness  OB  \n",
       "0                 0   3                5            3   2  \n",
       "1                 4   4                2            3   2  \n",
       "2                 3   4                4            4   2  \n",
       "3                 0   1                4            1   3  \n",
       "4                 0   2                4            2   5  "
      ]
     },
     "execution_count": 4,
     "metadata": {},
     "output_type": "execute_result"
    }
   ],
   "source": [
    "dataset.head()\n",
    "# 1 indicates satisfied and 0 indicates neutral/unsatisfied fpr satisfaction_v2 column"
   ]
  },
  {
   "cell_type": "code",
   "execution_count": 5,
   "metadata": {},
   "outputs": [],
   "source": [
    "y = dataset[\"satisfaction_v2\"]"
   ]
  },
  {
   "cell_type": "code",
   "execution_count": 6,
   "metadata": {},
   "outputs": [
    {
     "data": {
      "text/plain": [
       "Index(['Unnamed: 0', 'satisfaction_v2', 'Customer_Type', 'Age', 'Seat_comfort',\n",
       "       'FD', 'Inflight_wifi_service', 'Inflight_entertainment', 'OS', 'EOOB',\n",
       "       'On_board_service', 'Leg_room_service', 'BH', 'Checkin_service',\n",
       "       'Cleanliness', 'OB'],\n",
       "      dtype='object')"
      ]
     },
     "execution_count": 6,
     "metadata": {},
     "output_type": "execute_result"
    }
   ],
   "source": [
    "dataset.columns"
   ]
  },
  {
   "cell_type": "code",
   "execution_count": 7,
   "metadata": {},
   "outputs": [],
   "source": [
    "X = dataset[['Customer_Type', 'Age', 'Seat_comfort',\n",
    "       'FD', 'Inflight_wifi_service', 'Inflight_entertainment', 'OS', 'EOOB',\n",
    "       'On_board_service', 'Leg_room_service', 'BH', 'Checkin_service',\n",
    "       'Cleanliness', 'OB']]"
   ]
  },
  {
   "cell_type": "code",
   "execution_count": 8,
   "metadata": {},
   "outputs": [],
   "source": [
    "from keras.models import Sequential"
   ]
  },
  {
   "cell_type": "code",
   "execution_count": 9,
   "metadata": {},
   "outputs": [],
   "source": [
    "from keras.layers import Dense"
   ]
  },
  {
   "cell_type": "code",
   "execution_count": 10,
   "metadata": {},
   "outputs": [],
   "source": [
    "from keras.optimizers import Adam"
   ]
  },
  {
   "cell_type": "code",
   "execution_count": 11,
   "metadata": {},
   "outputs": [],
   "source": [
    "model = Sequential()"
   ]
  },
  {
   "cell_type": "code",
   "execution_count": 12,
   "metadata": {},
   "outputs": [],
   "source": [
    "model.add( Dense(units=16 , input_dim=14  , activation='relu') )"
   ]
  },
  {
   "cell_type": "code",
   "execution_count": 13,
   "metadata": {},
   "outputs": [],
   "source": [
    "model.add( Dense(units=10 , activation='relu') )"
   ]
  },
  {
   "cell_type": "code",
   "execution_count": 14,
   "metadata": {},
   "outputs": [],
   "source": [
    "model.add( Dense(units=1 , activation='sigmoid') )"
   ]
  },
  {
   "cell_type": "code",
   "execution_count": 15,
   "metadata": {},
   "outputs": [
    {
     "name": "stdout",
     "output_type": "stream",
     "text": [
      "Model: \"sequential\"\n",
      "_________________________________________________________________\n",
      "Layer (type)                 Output Shape              Param #   \n",
      "=================================================================\n",
      "dense (Dense)                (None, 16)                240       \n",
      "_________________________________________________________________\n",
      "dense_1 (Dense)              (None, 10)                170       \n",
      "_________________________________________________________________\n",
      "dense_2 (Dense)              (None, 1)                 11        \n",
      "=================================================================\n",
      "Total params: 421\n",
      "Trainable params: 421\n",
      "Non-trainable params: 0\n",
      "_________________________________________________________________\n"
     ]
    }
   ],
   "source": [
    "model.summary()"
   ]
  },
  {
   "cell_type": "code",
   "execution_count": 16,
   "metadata": {},
   "outputs": [],
   "source": [
    "model.compile(loss='binary_crossentropy' , optimizer=Adam(learning_rate=0.01) , metrics=['accuracy'])"
   ]
  },
  {
   "cell_type": "code",
   "execution_count": 17,
   "metadata": {},
   "outputs": [
    {
     "name": "stdout",
     "output_type": "stream",
     "text": [
      "Epoch 1/60\n",
      "4047/4047 [==============================] - 5s 1ms/step - loss: 0.3446 - accuracy: 0.8485\n",
      "Epoch 2/60\n",
      "4047/4047 [==============================] - 6s 1ms/step - loss: 0.2735 - accuracy: 0.8825\n",
      "Epoch 3/60\n",
      "4047/4047 [==============================] - 6s 1ms/step - loss: 0.2662 - accuracy: 0.8857\n",
      "Epoch 4/60\n",
      "4047/4047 [==============================] - 5s 1ms/step - loss: 0.2616 - accuracy: 0.8885\n",
      "Epoch 5/60\n",
      "4047/4047 [==============================] - 5s 1ms/step - loss: 0.2578 - accuracy: 0.8894\n",
      "Epoch 6/60\n",
      "4047/4047 [==============================] - 4s 1ms/step - loss: 0.2541 - accuracy: 0.8907\n",
      "Epoch 7/60\n",
      "4047/4047 [==============================] - 4s 1ms/step - loss: 0.2517 - accuracy: 0.8928\n",
      "Epoch 8/60\n",
      "4047/4047 [==============================] - 4s 1ms/step - loss: 0.2496 - accuracy: 0.8932\n",
      "Epoch 9/60\n",
      "4047/4047 [==============================] - 4s 1ms/step - loss: 0.2470 - accuracy: 0.8933\n",
      "Epoch 10/60\n",
      "4047/4047 [==============================] - 5s 1ms/step - loss: 0.2459 - accuracy: 0.8957\n",
      "Epoch 11/60\n",
      "4047/4047 [==============================] - 4s 1ms/step - loss: 0.2455 - accuracy: 0.8949\n",
      "Epoch 12/60\n",
      "4047/4047 [==============================] - 5s 1ms/step - loss: 0.2426 - accuracy: 0.8961\n",
      "Epoch 13/60\n",
      "4047/4047 [==============================] - 5s 1ms/step - loss: 0.2428 - accuracy: 0.8975\n",
      "Epoch 14/60\n",
      "4047/4047 [==============================] - 4s 1ms/step - loss: 0.2420 - accuracy: 0.8965\n",
      "Epoch 15/60\n",
      "4047/4047 [==============================] - 4s 1ms/step - loss: 0.2420 - accuracy: 0.8976\n",
      "Epoch 16/60\n",
      "4047/4047 [==============================] - 5s 1ms/step - loss: 0.2397 - accuracy: 0.8986\n",
      "Epoch 17/60\n",
      "4047/4047 [==============================] - 5s 1ms/step - loss: 0.2382 - accuracy: 0.8986\n",
      "Epoch 18/60\n",
      "4047/4047 [==============================] - 5s 1ms/step - loss: 0.2374 - accuracy: 0.8986\n",
      "Epoch 19/60\n",
      "4047/4047 [==============================] - 5s 1ms/step - loss: 0.2350 - accuracy: 0.9002\n",
      "Epoch 20/60\n",
      "4047/4047 [==============================] - 5s 1ms/step - loss: 0.2342 - accuracy: 0.8990\n",
      "Epoch 21/60\n",
      "4047/4047 [==============================] - 5s 1ms/step - loss: 0.2330 - accuracy: 0.9006\n",
      "Epoch 22/60\n",
      "4047/4047 [==============================] - 5s 1ms/step - loss: 0.2332 - accuracy: 0.8999\n",
      "Epoch 23/60\n",
      "4047/4047 [==============================] - 5s 1ms/step - loss: 0.2316 - accuracy: 0.9014\n",
      "Epoch 24/60\n",
      "4047/4047 [==============================] - 4s 1ms/step - loss: 0.2337 - accuracy: 0.9001\n",
      "Epoch 25/60\n",
      "4047/4047 [==============================] - 5s 1ms/step - loss: 0.2315 - accuracy: 0.9009\n",
      "Epoch 26/60\n",
      "4047/4047 [==============================] - 5s 1ms/step - loss: 0.2332 - accuracy: 0.9001\n",
      "Epoch 27/60\n",
      "4047/4047 [==============================] - 4s 1ms/step - loss: 0.2294 - accuracy: 0.9022\n",
      "Epoch 28/60\n",
      "4047/4047 [==============================] - 5s 1ms/step - loss: 0.2294 - accuracy: 0.9016\n",
      "Epoch 29/60\n",
      "4047/4047 [==============================] - 4s 1ms/step - loss: 0.2307 - accuracy: 0.9015\n",
      "Epoch 30/60\n",
      "4047/4047 [==============================] - 5s 1ms/step - loss: 0.2306 - accuracy: 0.9018\n",
      "Epoch 31/60\n",
      "4047/4047 [==============================] - 5s 1ms/step - loss: 0.2296 - accuracy: 0.9028\n",
      "Epoch 32/60\n",
      "4047/4047 [==============================] - 5s 1ms/step - loss: 0.2297 - accuracy: 0.9019\n",
      "Epoch 33/60\n",
      "4047/4047 [==============================] - 5s 1ms/step - loss: 0.2296 - accuracy: 0.9022\n",
      "Epoch 34/60\n",
      "4047/4047 [==============================] - 5s 1ms/step - loss: 0.2298 - accuracy: 0.9012\n",
      "Epoch 35/60\n",
      "4047/4047 [==============================] - 5s 1ms/step - loss: 0.2311 - accuracy: 0.9016\n",
      "Epoch 36/60\n",
      "4047/4047 [==============================] - 5s 1ms/step - loss: 0.2281 - accuracy: 0.9030\n",
      "Epoch 37/60\n",
      "4047/4047 [==============================] - 5s 1ms/step - loss: 0.2291 - accuracy: 0.9017\n",
      "Epoch 38/60\n",
      "4047/4047 [==============================] - 5s 1ms/step - loss: 0.2286 - accuracy: 0.9034\n",
      "Epoch 39/60\n",
      "4047/4047 [==============================] - 5s 1ms/step - loss: 0.2298 - accuracy: 0.9027\n",
      "Epoch 40/60\n",
      "4047/4047 [==============================] - 4s 1ms/step - loss: 0.2290 - accuracy: 0.9021\n",
      "Epoch 41/60\n",
      "4047/4047 [==============================] - 5s 1ms/step - loss: 0.2291 - accuracy: 0.9028\n",
      "Epoch 42/60\n",
      "4047/4047 [==============================] - 5s 1ms/step - loss: 0.2273 - accuracy: 0.9036\n",
      "Epoch 43/60\n",
      "4047/4047 [==============================] - 4s 1ms/step - loss: 0.2285 - accuracy: 0.9023\n",
      "Epoch 44/60\n",
      "4047/4047 [==============================] - 4s 1ms/step - loss: 0.2289 - accuracy: 0.9022\n",
      "Epoch 45/60\n",
      "4047/4047 [==============================] - 5s 1ms/step - loss: 0.2278 - accuracy: 0.9022\n",
      "Epoch 46/60\n",
      "4047/4047 [==============================] - 5s 1ms/step - loss: 0.2272 - accuracy: 0.9040\n",
      "Epoch 47/60\n",
      "4047/4047 [==============================] - 4s 1ms/step - loss: 0.2290 - accuracy: 0.9026\n",
      "Epoch 48/60\n",
      "4047/4047 [==============================] - 5s 1ms/step - loss: 0.2273 - accuracy: 0.9040\n",
      "Epoch 49/60\n",
      "4047/4047 [==============================] - 5s 1ms/step - loss: 0.2297 - accuracy: 0.9025\n",
      "Epoch 50/60\n",
      "4047/4047 [==============================] - 5s 1ms/step - loss: 0.2281 - accuracy: 0.9030\n",
      "Epoch 51/60\n",
      "4047/4047 [==============================] - 5s 1ms/step - loss: 0.2269 - accuracy: 0.9036\n",
      "Epoch 52/60\n",
      "4047/4047 [==============================] - 5s 1ms/step - loss: 0.2281 - accuracy: 0.9037\n",
      "Epoch 53/60\n",
      "4047/4047 [==============================] - 5s 1ms/step - loss: 0.2292 - accuracy: 0.9024\n",
      "Epoch 54/60\n",
      "4047/4047 [==============================] - 5s 1ms/step - loss: 0.2275 - accuracy: 0.9039\n",
      "Epoch 55/60\n",
      "4047/4047 [==============================] - 5s 1ms/step - loss: 0.2252 - accuracy: 0.9038\n",
      "Epoch 56/60\n",
      "4047/4047 [==============================] - 5s 1ms/step - loss: 0.2276 - accuracy: 0.9032\n",
      "Epoch 57/60\n",
      "4047/4047 [==============================] - 5s 1ms/step - loss: 0.2257 - accuracy: 0.9043\n",
      "Epoch 58/60\n",
      "4047/4047 [==============================] - 5s 1ms/step - loss: 0.2267 - accuracy: 0.9032\n",
      "Epoch 59/60\n",
      "4047/4047 [==============================] - 4s 1ms/step - loss: 0.2259 - accuracy: 0.9040\n",
      "Epoch 60/60\n",
      "4047/4047 [==============================] - 5s 1ms/step - loss: 0.2259 - accuracy: 0.9033\n"
     ]
    },
    {
     "data": {
      "text/plain": [
       "<tensorflow.python.keras.callbacks.History at 0x2b90966aac0>"
      ]
     },
     "execution_count": 17,
     "metadata": {},
     "output_type": "execute_result"
    }
   ],
   "source": [
    "model.fit(X , y, epochs=60)"
   ]
  },
  {
   "cell_type": "code",
   "execution_count": 19,
   "metadata": {},
   "outputs": [],
   "source": [
    "# Saving the model\n",
    "model.save(\"pass_model.h5\")"
   ]
  }
 ],
 "metadata": {
  "kernelspec": {
   "display_name": "Python 3",
   "language": "python",
   "name": "python3"
  },
  "language_info": {
   "codemirror_mode": {
    "name": "ipython",
    "version": 3
   },
   "file_extension": ".py",
   "mimetype": "text/x-python",
   "name": "python",
   "nbconvert_exporter": "python",
   "pygments_lexer": "ipython3",
   "version": "3.8.3"
  }
 },
 "nbformat": 4,
 "nbformat_minor": 4
}
